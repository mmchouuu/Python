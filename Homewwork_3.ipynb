{
 "cells": [
  {
   "cell_type": "markdown",
   "id": "36fd7e95",
   "metadata": {},
   "source": [
    "# **A.**"
   ]
  },
  {
   "cell_type": "markdown",
   "id": "d388cd97",
   "metadata": {},
   "source": [
    "### **1. Giả sử chuỗi s = “pythonfile.py”. Kiểm tra kết quả các lệnh sau:**\n",
    "\n",
    "a. s[2]\n",
    "\n",
    "b. s[-1]\n",
    "\n",
    "c. len(s)\n",
    "\n",
    "d. s[0:7]"
   ]
  },
  {
   "cell_type": "code",
   "execution_count": 1,
   "id": "59cec805",
   "metadata": {},
   "outputs": [
    {
     "name": "stdout",
     "output_type": "stream",
     "text": [
      "t\n",
      "y\n",
      "13\n",
      "pythonf\n",
      "file\n",
      ".py\n",
      "yp.elifnohtyp\n"
     ]
    }
   ],
   "source": [
    "# A.1 Chuỗi s = \"pythonfile.py\"\n",
    "s = \"pythonfile.py\"\n",
    "\n",
    "# a. Ký tự thứ 3 (index 2)\n",
    "print(s[2])  # 't'\n",
    "\n",
    "# b. Ký tự cuối cùng\n",
    "print(s[-1])  # 'y'\n",
    "\n",
    "# c. Độ dài chuỗi\n",
    "print(len(s))  # 13\n",
    "\n",
    "# d. Chuỗi con từ index 0 đến 6\n",
    "print(s[0:7])  # 'pythonf'\n",
    "\n",
    "# e. Trích \"file\"\n",
    "print(s[6:10])  # 'file'\n",
    "\n",
    "# f. Trích \".py\"\n",
    "print(s[-3:])  # '.py'\n",
    "\n",
    "# g. In chuỗi theo thứ tự ngược lại\n",
    "for c in reversed(s):\n",
    "    print(c, end='')\n",
    "print()\n"
   ]
  },
  {
   "cell_type": "markdown",
   "id": "1af25e04",
   "metadata": {},
   "source": [
    "### **2. Viết lệnh chuyển đổi các yêu cầu sau đây**\n",
    "\n",
    "a. Chuyển 11001 ở hệ nhị phân sang decimal\n",
    "\n",
    "b. Chuyển 47 ở hệ decimal sang binary\n",
    "\n",
    "c. Chuyển AF1 hệ hexadecimal sang decimal\n",
    "\n",
    "d. Chuyển 127 ở hệ octal sang binary"
   ]
  },
  {
   "cell_type": "code",
   "execution_count": 2,
   "id": "940ec2b5",
   "metadata": {},
   "outputs": [
    {
     "name": "stdout",
     "output_type": "stream",
     "text": [
      "25\n",
      "101111\n",
      "2801\n",
      "1010111\n"
     ]
    }
   ],
   "source": [
    "# a. Nhị phân sang decimal\n",
    "bin_num = '11001'\n",
    "dec_num = int(bin_num, 2)\n",
    "print(dec_num)  # 25\n",
    "\n",
    "# b. Decimal sang binary\n",
    "dec = 47\n",
    "bin_str = bin(dec)[2:]\n",
    "print(bin_str)  # '101111'\n",
    "\n",
    "# c. Hexadecimal sang decimal\n",
    "hex_num = 'AF1'\n",
    "dec_from_hex = int(hex_num, 16)\n",
    "print(dec_from_hex)  # 2801\n",
    "\n",
    "# d. Octal sang binary\n",
    "oct_num = '127'\n",
    "dec_from_oct = int(oct_num, 8)\n",
    "bin_from_oct = bin(dec_from_oct)[2:]\n",
    "print(bin_from_oct)  # '101111'\n"
   ]
  },
  {
   "cell_type": "markdown",
   "id": "f8295ebf",
   "metadata": {},
   "source": [
    "# **B.**"
   ]
  },
  {
   "cell_type": "markdown",
   "id": "b2538f27",
   "metadata": {},
   "source": [
    "### **1. Nhập vào một chuỗi (mỗi từ cách nhau bởi một khoảng trắng). Tách chuỗi thành các từ và in ra màn hình theo thứ tự từ điển.**\n",
    "\n",
    "Ví dụ : s = ‘lap trinh python’ . In ra từng từ theo thứ tự: ‘lap’ , ‘python’, ‘trinh’"
   ]
  },
  {
   "cell_type": "code",
   "execution_count": 4,
   "id": "018c1dfa",
   "metadata": {},
   "outputs": [
    {
     "name": "stdout",
     "output_type": "stream",
     "text": [
      "['dep', 'mchou', 'xinh']\n"
     ]
    }
   ],
   "source": [
    "s = input(\"Nhập chuỗi: \")  # ví dụ: 'lap trinh python'\n",
    "words = s.split()\n",
    "words.sort()\n",
    "print(words)\n"
   ]
  },
  {
   "cell_type": "markdown",
   "id": "7543d97b",
   "metadata": {},
   "source": [
    "### **2. Nhập vào chuỗi các số nhị phân cách nhau bởi dấu phẩy, In ra các giá trị trong hệ thập phân tương ứng.**\n",
    "\n",
    "Ví dụ: = ‘000,111,101’. In ra màn hình: 0, 7, 5"
   ]
  },
  {
   "cell_type": "code",
   "execution_count": 12,
   "id": "8dc3a5e1",
   "metadata": {},
   "outputs": [
    {
     "name": "stdout",
     "output_type": "stream",
     "text": [
      "5,3,7\n"
     ]
    }
   ],
   "source": [
    "s = input(\"Nhập chuỗi nhị phân cách nhau dấu phẩy: \")  # '000,111,101'\n",
    "bins = s.split(',')\n",
    "decimals = [str(int(b, 2)) for b in bins]\n",
    "print(','.join(decimals))\n"
   ]
  },
  {
   "cell_type": "markdown",
   "id": "b85e81d1",
   "metadata": {},
   "source": [
    "### **3. Nhập vào một chuỗi, đếm số lần xuất hiện của các ký tự (là chữ cái) trong chuỗi.**"
   ]
  },
  {
   "cell_type": "code",
   "execution_count": 9,
   "id": "9b9f49d9",
   "metadata": {},
   "outputs": [
    {
     "name": "stdout",
     "output_type": "stream",
     "text": [
      "{'m': 1, 'c': 1, 'h': 2, 'o': 1, 'u': 1, 'x': 1, 'i': 1, 'n': 1, 'd': 1, 'e': 1, 'p': 1}\n"
     ]
    }
   ],
   "source": [
    "s = input(\"Nhập chuỗi: \")\n",
    "char_count = {}\n",
    "for c in s:\n",
    "    if c.isalpha():\n",
    "        char_count[c] = char_count.get(c, 0) + 1\n",
    "print(char_count)\n"
   ]
  },
  {
   "cell_type": "markdown",
   "id": "04d7459b",
   "metadata": {},
   "source": [
    "### **4. Nhập vào một chuỗi (mỗi từ cách nhau bởi một khoảng trắng). Chuyển ký tự đầu tiên của mỗi từ sang chữ in hoa.**\n",
    "\n",
    "Ví dụ : s = ‘lap trinh python’ . In ra ‘Lap Trinh Python’"
   ]
  },
  {
   "cell_type": "code",
   "execution_count": 10,
   "id": "2c8c9995",
   "metadata": {},
   "outputs": [
    {
     "name": "stdout",
     "output_type": "stream",
     "text": [
      "Mchou\n"
     ]
    }
   ],
   "source": [
    "s = input(\"Nhập chuỗi: \")  # 'lap trinh python'\n",
    "words = s.split()\n",
    "words_cap = [w.capitalize() for w in words]\n",
    "print(' '.join(words_cap))"
   ]
  },
  {
   "cell_type": "markdown",
   "id": "1b4fde83",
   "metadata": {},
   "source": [
    "### **5. Nhập vào một chuỗi, đếm số lượng chữ cái in hoa, chữ cái in thường.**"
   ]
  },
  {
   "cell_type": "code",
   "execution_count": 11,
   "id": "e9d8f0a4",
   "metadata": {},
   "outputs": [
    {
     "name": "stdout",
     "output_type": "stream",
     "text": [
      "In hoa: 0 In thường: 5\n"
     ]
    }
   ],
   "source": [
    "s = input(\"Nhập chuỗi: \")\n",
    "upper_count = sum(1 for c in s if c.isupper())\n",
    "lower_count = sum(1 for c in s if c.islower())\n",
    "print(\"In hoa:\", upper_count, \"In thường:\", lower_count)"
   ]
  },
  {
   "cell_type": "markdown",
   "id": "36346f16",
   "metadata": {},
   "source": [
    "### **6. Nhập vào một chuỗi các số nguyên cách nhau dấu phẩy. In ra các số nguyên tố**\n",
    "\n",
    "Ví dụ: chuỗi s = ’12,11,2,4,56,7,9,13’ . In ra 11, 2, 7, 13"
   ]
  },
  {
   "cell_type": "code",
   "execution_count": null,
   "id": "2a6e1d46",
   "metadata": {},
   "outputs": [],
   "source": [
    "def is_prime(n):\n",
    "    if n < 2:\n",
    "        return False\n",
    "    for i in range(2, int(n**0.5)+1):\n",
    "        if n % i == 0:\n",
    "            return False\n",
    "    return True\n",
    "\n",
    "s = input(\"Nhập chuỗi số nguyên cách nhau dấu phẩy: \")  # '12,11,2,4,56,7,9,13'\n",
    "nums = [int(x) for x in s.split(',')]\n",
    "primes = [str(x) for x in nums if is_prime(x)]\n",
    "print(','.join(primes))\n"
   ]
  },
  {
   "cell_type": "markdown",
   "id": "5551d313",
   "metadata": {},
   "source": [
    "### **7. Nhập vào một chuỗi (mỗi từ cách nhau bởi một khoảng trắng). Đếm số lần xuất hiện của mỗi từ trong chuỗi.**\n",
    "\n",
    "Ví dụ: s=’hello world hi world goodbye world hi’. In ra hello:1 , world:3, hi:2, goodbye:1"
   ]
  },
  {
   "cell_type": "code",
   "execution_count": null,
   "id": "69d561ae",
   "metadata": {},
   "outputs": [],
   "source": [
    "s = input(\"Nhập chuỗi: \")  # 'hello world hi world goodbye world hi'\n",
    "words = s.split()\n",
    "word_count = {}\n",
    "for w in words:\n",
    "    word_count[w] = word_count.get(w, 0) + 1\n",
    "\n",
    "for k, v in word_count.items():\n",
    "    print(f\"{k}:{v}\", end=', ')\n"
   ]
  },
  {
   "cell_type": "code",
   "execution_count": 16,
   "id": "fa21a936",
   "metadata": {},
   "outputs": [
    {
     "name": "stdout",
     "output_type": "stream",
     "text": [
      "mchou:1\n",
      "xdep:1\n"
     ]
    }
   ],
   "source": [
    "s = input(\"Nhập chuỗi: \")  # 'hello world hi world goodbye world hi'\n",
    "words = s.split()\n",
    "check = []\n",
    "for w in words:\n",
    "    if w not in check:\n",
    "        t=words.count(w)\n",
    "        print(f\"{w}:{t}\")\n",
    "        check.append(w)"
   ]
  }
 ],
 "metadata": {
  "kernelspec": {
   "display_name": "base",
   "language": "python",
   "name": "python3"
  },
  "language_info": {
   "codemirror_mode": {
    "name": "ipython",
    "version": 3
   },
   "file_extension": ".py",
   "mimetype": "text/x-python",
   "name": "python",
   "nbconvert_exporter": "python",
   "pygments_lexer": "ipython3",
   "version": "3.12.7"
  }
 },
 "nbformat": 4,
 "nbformat_minor": 5
}
