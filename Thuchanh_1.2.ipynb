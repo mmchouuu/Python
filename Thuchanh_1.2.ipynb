{
 "cells": [
  {
   "cell_type": "markdown",
   "id": "de578000",
   "metadata": {},
   "source": [
    "### **1. Viết chương trình nhập số A và kiểm tra xem A có phải là số nguyên tố hay không?**"
   ]
  },
  {
   "cell_type": "code",
   "execution_count": 1,
   "id": "38c91e03-1b86-46d3-8e8d-88c4b8088f11",
   "metadata": {},
   "outputs": [
    {
     "name": "stdout",
     "output_type": "stream",
     "text": [
      "12 không phải là số nguyên tố\n"
     ]
    }
   ],
   "source": [
    "A = int(input(\"Nhập số A: \"))\n",
    "\n",
    "def kt_snt(n):\n",
    "    if n<2:\n",
    "        return False\n",
    "    for i in range(2, n):\n",
    "        if n%i == 0:\n",
    "            return False\n",
    "    return True\n",
    "\n",
    "if kt_snt(A):\n",
    "    print(A, \"là số nguyên tố\")\n",
    "else:\n",
    "    print(A, \"không phải là số nguyên tố\")"
   ]
  },
  {
   "cell_type": "markdown",
   "id": "8b609d71",
   "metadata": {},
   "source": [
    "### **2. Viết chương trình in ra tất cả số chẵn trong khoảng (M,N) . N, M nhập từ bàn phím.**"
   ]
  },
  {
   "cell_type": "code",
   "execution_count": 2,
   "id": "fd82db24",
   "metadata": {},
   "outputs": [
    {
     "name": "stdout",
     "output_type": "stream",
     "text": [
      "Các số chẵn trong khoảng ( 5 , 9 ): \n",
      "6 8 "
     ]
    }
   ],
   "source": [
    "M = int(input(\"Nhập M: \"))\n",
    "N = int(input(\"Nhập N: \"))\n",
    "\n",
    "print(\"Các số chẵn trong khoảng (\", M, \",\", N, \"): \")\n",
    "\n",
    "for i in range(M+1,N): # khoảng (M,N) nghĩa là loại trừ M và N\n",
    "    if i%2==0:\n",
    "        print(i, end=\" \")"
   ]
  }
 ],
 "metadata": {
  "kernelspec": {
   "display_name": "Python (pyspark-310)",
   "language": "python",
   "name": "pyspark-310"
  },
  "language_info": {
   "codemirror_mode": {
    "name": "ipython",
    "version": 3
   },
   "file_extension": ".py",
   "mimetype": "text/x-python",
   "name": "python",
   "nbconvert_exporter": "python",
   "pygments_lexer": "ipython3",
   "version": "3.10.16"
  }
 },
 "nbformat": 4,
 "nbformat_minor": 5
}
