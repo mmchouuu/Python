{
 "cells": [
  {
   "cell_type": "markdown",
   "id": "24c170b3",
   "metadata": {},
   "source": [
    "# **A**"
   ]
  },
  {
   "cell_type": "markdown",
   "id": "3cfa9730",
   "metadata": {},
   "source": [
    "### **1. Cho ví dụ về 03 đối tượng trong thực tế có thể lưu trữ dưới dạng dictionary.**"
   ]
  },
  {
   "cell_type": "markdown",
   "id": "fb6f43ac",
   "metadata": {},
   "source": [
    "- Thông tin sinh viên:"
   ]
  },
  {
   "cell_type": "code",
   "execution_count": 1,
   "id": "b1e94da8",
   "metadata": {},
   "outputs": [],
   "source": [
    "sinh_vien = {\"id\": \"3122411021\", \"ten\": \"Phạm Nguyễn Minh Châu\", \"diem\": 8.5}\n"
   ]
  },
  {
   "cell_type": "markdown",
   "id": "021760e0",
   "metadata": {},
   "source": [
    "- Sản phẩm trong cửa hàng:"
   ]
  },
  {
   "cell_type": "code",
   "execution_count": 2,
   "id": "e2b2eac1",
   "metadata": {},
   "outputs": [],
   "source": [
    "san_pham = {\"maSP\": \"SP01\", \"ten\": \"Banh mi\", \"gia\": 15000}"
   ]
  },
  {
   "cell_type": "markdown",
   "id": "a7ffba4d",
   "metadata": {},
   "source": [
    "- Từ điển dịch thuật:"
   ]
  },
  {
   "cell_type": "code",
   "execution_count": 4,
   "id": "037c443c",
   "metadata": {},
   "outputs": [],
   "source": [
    "dictionary = {\"hello\": \"xin chào\", \"book\": \"sách\", \"computer\": \"máy tính\"}"
   ]
  },
  {
   "cell_type": "markdown",
   "id": "45d6bfbc",
   "metadata": {},
   "source": [
    "### **2. Giả sử từ điển d = {'b':200, 'a':100, 'c':1}. Cho biết kết quả các câu lệnh sau**"
   ]
  },
  {
   "cell_type": "markdown",
   "id": "4362a06c",
   "metadata": {},
   "source": [
    "a) d['a'] → 100\n",
    "\n",
    "b) d.get('e', None) → None\n",
    "\n",
    "c) len(d) → 3\n",
    "\n",
    "d) d.keys() → dict_keys(['b','a','c'])\n",
    "\n",
    "e) d.values() → dict_values([200,100,1])\n",
    "\n",
    "f) d.pop('b') → 200\n",
    "\n",
    "h) Giá trị của d sau khi pop → {'a':100, 'c':1}"
   ]
  },
  {
   "cell_type": "code",
   "execution_count": 5,
   "id": "bdc63ae5",
   "metadata": {},
   "outputs": [
    {
     "name": "stdout",
     "output_type": "stream",
     "text": [
      "a 100\n",
      "c 1\n",
      "e 500\n"
     ]
    }
   ],
   "source": [
    "d = {'b':200, 'a':100, 'c':1}\n",
    "\n",
    "# a) Thay thế giá trị khóa b thành số âm\n",
    "d['b'] = -d['b']   # {'b': -200, 'a':100, 'c':1}\n",
    "\n",
    "# b) Thêm khóa 'e':500\n",
    "d['e'] = 500       # {'b':-200, 'a':100, 'c':1, 'e':500}\n",
    "\n",
    "# c) Xóa khóa b (cách an toàn)\n",
    "d.pop('b', None)   # {'a':100, 'c':1, 'e':500}\n",
    "\n",
    "# d) In cặp (key, value) theo thứ tự từ điển\n",
    "for k in sorted(d.keys()):\n",
    "    print(k, d[k])\n"
   ]
  },
  {
   "cell_type": "markdown",
   "id": "74d03956",
   "metadata": {},
   "source": [
    "# **B**"
   ]
  },
  {
   "cell_type": "markdown",
   "id": "d1241e69",
   "metadata": {},
   "source": [
    "### **1. Tạo một tập hợp gồm các phần tử từ 0 đến 200. In tập hợp ra màn hình.**"
   ]
  },
  {
   "cell_type": "code",
   "execution_count": 6,
   "id": "b0ffe483",
   "metadata": {},
   "outputs": [
    {
     "name": "stdout",
     "output_type": "stream",
     "text": [
      "{0, 1, 2, 3, 4, 5, 6, 7, 8, 9, 10, 11, 12, 13, 14, 15, 16, 17, 18, 19, 20, 21, 22, 23, 24, 25, 26, 27, 28, 29, 30, 31, 32, 33, 34, 35, 36, 37, 38, 39, 40, 41, 42, 43, 44, 45, 46, 47, 48, 49, 50, 51, 52, 53, 54, 55, 56, 57, 58, 59, 60, 61, 62, 63, 64, 65, 66, 67, 68, 69, 70, 71, 72, 73, 74, 75, 76, 77, 78, 79, 80, 81, 82, 83, 84, 85, 86, 87, 88, 89, 90, 91, 92, 93, 94, 95, 96, 97, 98, 99, 100, 101, 102, 103, 104, 105, 106, 107, 108, 109, 110, 111, 112, 113, 114, 115, 116, 117, 118, 119, 120, 121, 122, 123, 124, 125, 126, 127, 128, 129, 130, 131, 132, 133, 134, 135, 136, 137, 138, 139, 140, 141, 142, 143, 144, 145, 146, 147, 148, 149, 150, 151, 152, 153, 154, 155, 156, 157, 158, 159, 160, 161, 162, 163, 164, 165, 166, 167, 168, 169, 170, 171, 172, 173, 174, 175, 176, 177, 178, 179, 180, 181, 182, 183, 184, 185, 186, 187, 188, 189, 190, 191, 192, 193, 194, 195, 196, 197, 198, 199, 200}\n"
     ]
    }
   ],
   "source": [
    "tap = set(range(201))\n",
    "print(tap)"
   ]
  },
  {
   "cell_type": "markdown",
   "id": "353d9275",
   "metadata": {},
   "source": [
    "### **2. Tạo một tập hợp gồm các số nguyên tố trong khoảng (10,2000). In tập hợp ra màn hình.**"
   ]
  },
  {
   "cell_type": "code",
   "execution_count": 7,
   "id": "a4e40944",
   "metadata": {},
   "outputs": [
    {
     "name": "stdout",
     "output_type": "stream",
     "text": [
      "{1031, 1543, 521, 1033, 11, 523, 13, 1549, 1039, 17, 1021, 19, 1553, 23, 1531, 1049, 1559, 1051, 29, 541, 31, 1567, 547, 1571, 37, 1061, 1063, 41, 43, 1579, 557, 1069, 47, 1583, 563, 53, 569, 59, 571, 61, 1597, 1087, 577, 1601, 67, 1091, 1093, 71, 1607, 73, 1097, 587, 1609, 1613, 79, 1103, 593, 83, 1619, 1109, 1621, 599, 89, 601, 1627, 1117, 607, 97, 1123, 101, 613, 103, 1637, 617, 1129, 107, 619, 109, 113, 631, 1657, 127, 1151, 641, 1153, 131, 643, 1663, 1667, 647, 1669, 137, 139, 1163, 653, 659, 1171, 149, 661, 151, 157, 1181, 1693, 673, 1697, 163, 1187, 677, 1699, 167, 1193, 683, 173, 1709, 1201, 179, 691, 181, 1721, 1723, 701, 1213, 191, 193, 1217, 197, 709, 199, 1223, 1733, 1229, 1741, 719, 1231, 211, 1747, 1237, 727, 1753, 733, 223, 1759, 1249, 227, 739, 229, 743, 233, 1259, 239, 751, 241, 1777, 757, 1783, 761, 251, 1787, 1277, 1789, 1279, 257, 769, 1283, 773, 263, 1289, 1801, 1291, 269, 271, 1297, 787, 1811, 277, 1301, 1303, 281, 283, 1307, 797, 1823, 293, 1319, 1831, 809, 1321, 811, 1327, 307, 821, 311, 823, 313, 1847, 827, 317, 829, 1861, 839, 331, 1867, 1871, 337, 1361, 1873, 853, 1877, 1367, 1879, 857, 347, 859, 349, 1373, 863, 353, 1889, 1381, 359, 877, 1901, 367, 881, 883, 1907, 373, 887, 1399, 1913, 379, 383, 1409, 389, 907, 1931, 397, 1933, 911, 1423, 401, 1427, 1429, 919, 409, 1433, 1949, 1439, 1951, 929, 419, 421, 1447, 937, 1451, 941, 1453, 431, 433, 947, 1459, 1973, 439, 953, 443, 1979, 1471, 449, 1987, 967, 457, 1481, 971, 1483, 461, 1993, 463, 1487, 977, 1489, 467, 1997, 1493, 1999, 983, 1499, 479, 991, 997, 487, 1511, 491, 1009, 499, 1523, 1013, 503, 1019, 509}\n"
     ]
    }
   ],
   "source": [
    "def kt_snt(n):\n",
    "    if n<2:\n",
    "        return False\n",
    "    for i in range(2, n):\n",
    "        if n%i == 0:\n",
    "            return False\n",
    "    return True\n",
    "\n",
    "snt_set = {x for x in range(11,2000) if kt_snt(x)}\n",
    "print(snt_set)"
   ]
  },
  {
   "cell_type": "markdown",
   "id": "18cb13c3",
   "metadata": {},
   "source": [
    "### **3. Phát sinh ngẫu nhiên 2 tập hợp chứa các số nguyên trong khoảng (10,2000). (Số lượng phần tử của hai tập hợp có thể khác nhau). Tìm phần giao, hội, different và symmetric_different của hai tập hợp.**\n",
    "Hint: dùng import random ; random.randint"
   ]
  },
  {
   "cell_type": "code",
   "execution_count": 8,
   "id": "e2cb9c6f",
   "metadata": {},
   "outputs": [
    {
     "name": "stdout",
     "output_type": "stream",
     "text": [
      "Giao: set()\n",
      "Hội: {130, 1410, 777, 140, 784, 1296, 1170, 917, 408, 1049, 1177, 1051, 1062, 40, 1321, 1834, 556, 1967, 1712, 1468, 1342, 1983, 1218, 1603, 325, 1864, 1099, 334, 1744, 598, 1494, 1500, 484, 1508, 1768, 237, 1773, 1263, 496, 244, 1909, 374, 245, 376, 893}\n",
      "Hiệu: {130, 1410, 777, 784, 1296, 917, 408, 1049, 1051, 1967, 1712, 1342, 1218, 325, 1099, 1744, 598, 484, 374, 893}\n",
      "Đối xứng: {777, 784, 1296, 1049, 1051, 1062, 40, 1321, 1834, 556, 1342, 1603, 325, 1864, 1099, 334, 598, 1909, 374, 376, 893, 130, 1410, 140, 1170, 917, 408, 1177, 1967, 1712, 1468, 1983, 1218, 1744, 1494, 1500, 1508, 484, 1768, 237, 1773, 1263, 496, 244, 245}\n"
     ]
    }
   ],
   "source": [
    "import random\n",
    "\n",
    "set1 = {random.randint(10,2000) for _ in range(20)}\n",
    "set2 = {random.randint(10,2000) for _ in range(25)}\n",
    "\n",
    "print(\"Giao:\", set1 & set2)\n",
    "print(\"Hội:\", set1 | set2)\n",
    "print(\"Hiệu:\", set1 - set2)\n",
    "print(\"Đối xứng:\", set1 ^ set2)\n"
   ]
  },
  {
   "cell_type": "markdown",
   "id": "6caceb51",
   "metadata": {},
   "source": [
    "### **4. Nhập vào một từ điển (giả sử các values là các số nguyên). In ra các value có giá trị khác nhau.**"
   ]
  },
  {
   "cell_type": "code",
   "execution_count": 9,
   "id": "fa2afbcc",
   "metadata": {},
   "outputs": [
    {
     "name": "stdout",
     "output_type": "stream",
     "text": [
      "{1, 2, 3}\n"
     ]
    }
   ],
   "source": [
    "d = {\"a\":1, \"b\":2, \"c\":1, \"d\":3}\n",
    "print(set(d.values()))  # {1,2,3}"
   ]
  },
  {
   "cell_type": "markdown",
   "id": "043a90b6",
   "metadata": {},
   "source": [
    "### **5. Nhập vào một từ điển (giả sử các values là các số nguyên). In ra value có giá trị lớn nhất.**"
   ]
  },
  {
   "cell_type": "code",
   "execution_count": 10,
   "id": "71a5bf99",
   "metadata": {},
   "outputs": [
    {
     "name": "stdout",
     "output_type": "stream",
     "text": [
      "3\n"
     ]
    }
   ],
   "source": [
    "print(max(d.values()))  # 3"
   ]
  },
  {
   "cell_type": "markdown",
   "id": "b301c9ad",
   "metadata": {},
   "source": [
    "### **6. Nhập vào một từ điển (giả sử các keys là các số nguyên). Tìm hai khóa có giá trị lớn nhất, lớn nhì.**"
   ]
  },
  {
   "cell_type": "code",
   "execution_count": 11,
   "id": "e5e57947",
   "metadata": {},
   "outputs": [
    {
     "name": "stdout",
     "output_type": "stream",
     "text": [
      "Lớn nhất: 4 = 40\n",
      "Nhì: 2 = 30\n"
     ]
    }
   ],
   "source": [
    "d = {1:10, 2:30, 3:20, 4:40}\n",
    "sorted_keys = sorted(d, key=d.get, reverse=True)\n",
    "print(\"Lớn nhất:\", sorted_keys[0], \"=\", d[sorted_keys[0]])\n",
    "print(\"Nhì:\", sorted_keys[1], \"=\", d[sorted_keys[1]])\n"
   ]
  }
 ],
 "metadata": {
  "kernelspec": {
   "display_name": "base",
   "language": "python",
   "name": "python3"
  },
  "language_info": {
   "codemirror_mode": {
    "name": "ipython",
    "version": 3
   },
   "file_extension": ".py",
   "mimetype": "text/x-python",
   "name": "python",
   "nbconvert_exporter": "python",
   "pygments_lexer": "ipython3",
   "version": "3.12.7"
  }
 },
 "nbformat": 4,
 "nbformat_minor": 5
}
