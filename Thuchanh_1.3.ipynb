{
 "cells": [
  {
   "cell_type": "markdown",
   "id": "19faa00d",
   "metadata": {},
   "source": [
    "### **1. Viết hàm tìm độ dài của một chuỗi (không dùng hàm len())**"
   ]
  },
  {
   "cell_type": "code",
   "execution_count": null,
   "id": "f3827350",
   "metadata": {},
   "outputs": [
    {
     "name": "stdout",
     "output_type": "stream",
     "text": [
      "Độ dài chuỗi:  5\n"
     ]
    }
   ],
   "source": [
    "def demchuoi(s):\n",
    "    dem=0\n",
    "    for _ in s:\n",
    "        dem+=1\n",
    "    return dem\n",
    "\n",
    "chuoi = input(\"Nhập chuỗi: \")\n",
    "\n",
    "print(\"Độ dài chuỗi:\", demchuoi(chuoi))"
   ]
  },
  {
   "cell_type": "markdown",
   "id": "a901b3a5",
   "metadata": {},
   "source": [
    "### **2. Viết chương trình đếm số lượng các từ trong một chuỗi (giả sử các từ trong chuỗi cách nhau bởi một khoảng trắng)**"
   ]
  },
  {
   "cell_type": "code",
   "execution_count": 4,
   "id": "3a99b305",
   "metadata": {},
   "outputs": [
    {
     "name": "stdout",
     "output_type": "stream",
     "text": [
      "Số lượng từ trong chuỗi: 7\n"
     ]
    }
   ],
   "source": [
    "def demtu(chuoi):\n",
    "    tu = chuoi.strip().split(\" \")\n",
    "    tu = [t for t in tu if t != \"\"]\n",
    "    return len(tu)\n",
    "\n",
    "chuoi = input(\"Nhập chuỗi: \")\n",
    "print(\"Số lượng từ trong chuỗi:\", demtu(chuoi))"
   ]
  },
  {
   "cell_type": "markdown",
   "id": "5197774b",
   "metadata": {},
   "source": [
    "### **3. Viết hàm đếm số lượng nguyên âm( a e i o u), phụ âm có trong chuỗi**"
   ]
  },
  {
   "cell_type": "code",
   "execution_count": null,
   "id": "5ab872eb",
   "metadata": {},
   "outputs": [],
   "source": [
    "def dem_nguyen_am_phu_am(chuoi):\n",
    "    nguyen_am = \"aeiouAEIOU\"\n",
    "    dem_nguyen_am = 0\n",
    "    dem_phu_am = 0\n",
    "    \n",
    "    for ch in chuoi:\n",
    "        if ch.isalpha():  # chỉ xét chữ cái\n",
    "            if ch in nguyen_am:\n",
    "                dem_nguyen_am += 1\n",
    "            else:\n",
    "                dem_phu_am += 1\n",
    "    return dem_nguyen_am, dem_phu_am\n",
    "\n",
    "# Thử nghiệm\n",
    "chuoi = input(\"Nhập chuỗi: \")\n",
    "na, pa = dem_nguyen_am_phu_am(chuoi)\n",
    "print(\"Số nguyên âm:\", na)\n",
    "print(\"Số phụ âm:\", pa)\n"
   ]
  }
 ],
 "metadata": {
  "kernelspec": {
   "display_name": "Python (pyspark-310)",
   "language": "python",
   "name": "pyspark-310"
  },
  "language_info": {
   "codemirror_mode": {
    "name": "ipython",
    "version": 3
   },
   "file_extension": ".py",
   "mimetype": "text/x-python",
   "name": "python",
   "nbconvert_exporter": "python",
   "pygments_lexer": "ipython3",
   "version": "3.10.16"
  }
 },
 "nbformat": 4,
 "nbformat_minor": 5
}
