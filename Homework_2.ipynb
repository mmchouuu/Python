{
 "cells": [
  {
   "cell_type": "markdown",
   "id": "cc264911",
   "metadata": {},
   "source": [
    "# **A. Lý thuyết**"
   ]
  },
  {
   "cell_type": "markdown",
   "id": "c3716093",
   "metadata": {},
   "source": [
    "### **1. Cho x = 8 và y = 2. Cho biết kết quả các lệnh sau:**\n",
    "\n",
    "a. x + y * 3 = 14\n",
    "\n",
    "b. (x + y) * 3 = 30 \n",
    "\n",
    "c. x ** y = 64\n",
    "\n",
    "d. x % y = 0\n",
    "\n",
    "e. x / 12.0 = 0.666\n",
    "\n",
    "f. x // 6 = 1\n",
    "\n",
    "### **2. Cho x = 54.66. Cho biết kết quả các câu lệnh sau:**\n",
    "\n",
    "a. round(x) = round(54.66) = 55\n",
    "\n",
    "b. int(x) = int(54.66) = 54"
   ]
  },
  {
   "cell_type": "markdown",
   "id": "cb04983f",
   "metadata": {},
   "source": [
    "# **B. Bài tập lập trình**"
   ]
  },
  {
   "cell_type": "markdown",
   "id": "85d094c3",
   "metadata": {},
   "source": [
    "### **1. Viết chương trình nhập vào một số nguyên n. Kiểm tra xem số đó có phải là số nguyên tố, số đối xứng, số hoàn chỉnh, số chính phương hay không?**"
   ]
  },
  {
   "cell_type": "code",
   "execution_count": 3,
   "id": "3a895325",
   "metadata": {},
   "outputs": [
    {
     "name": "stdout",
     "output_type": "stream",
     "text": [
      "Nguyên tố: True\n",
      "Đối xứng: True\n",
      "Hoàn chỉnh: False\n",
      "Chính phương: False\n"
     ]
    }
   ],
   "source": [
    "import math\n",
    "\n",
    "def la_nguyen_to(n):\n",
    "    if n < 2:\n",
    "        return False\n",
    "    for i in range(2, int(math.sqrt(n))+1):\n",
    "        if n % i == 0:\n",
    "            return False\n",
    "    return True\n",
    "\n",
    "def la_doi_xung(n):\n",
    "    return str(n) == str(n)[::-1]\n",
    "\n",
    "def la_hoan_chinh(n):\n",
    "    tong = sum(i for i in range(1, n) if n % i == 0)\n",
    "    return tong == n\n",
    "\n",
    "def la_chinh_phuong(n):\n",
    "    return int(math.sqrt(n))**2 == n\n",
    "\n",
    "n = int(input(\"Nhập số nguyên n: \"))\n",
    "print(\"Nguyên tố:\", la_nguyen_to(n))\n",
    "print(\"Đối xứng:\", la_doi_xung(n))\n",
    "print(\"Hoàn chỉnh:\", la_hoan_chinh(n))\n",
    "print(\"Chính phương:\", la_chinh_phuong(n))\n"
   ]
  },
  {
   "cell_type": "markdown",
   "id": "de9c25b3",
   "metadata": {},
   "source": [
    "### **2. Viết chương trình nhập vào hai số M, N. In ra tất cả các số nguyên tố, số đối xứng, số hoàn chỉnh, số chính phương trong khoảng [M,N] (nếu có)**"
   ]
  },
  {
   "cell_type": "code",
   "execution_count": 4,
   "id": "32e53eda",
   "metadata": {},
   "outputs": [
    {
     "name": "stdout",
     "output_type": "stream",
     "text": [
      "5 là số nguyên tố\n",
      "5 là số đối xứng\n",
      "6 là số đối xứng\n",
      "6 là số hoàn chỉnh\n",
      "7 là số nguyên tố\n",
      "7 là số đối xứng\n",
      "8 là số đối xứng\n"
     ]
    }
   ],
   "source": [
    "M, N = map(int, input(\"Nhập M N: \").split())\n",
    "for i in range(M, N+1):\n",
    "    if la_nguyen_to(i):\n",
    "        print(i, \"là số nguyên tố\")\n",
    "    if la_doi_xung(i):\n",
    "        print(i, \"là số đối xứng\")\n",
    "    if la_hoan_chinh(i):\n",
    "        print(i, \"là số hoàn chỉnh\")\n",
    "    if la_chinh_phuong(i):\n",
    "        print(i, \"là số chính phương\")"
   ]
  },
  {
   "cell_type": "markdown",
   "id": "b51c133d",
   "metadata": {},
   "source": [
    "### **3. Ước chung lớn nhất (UCLN) và bội chung nhỏ nhất (BCNN) của hai số a và b**"
   ]
  },
  {
   "cell_type": "markdown",
   "id": "0adad0be",
   "metadata": {},
   "source": [
    "a. Không đệ quy"
   ]
  },
  {
   "cell_type": "code",
   "execution_count": 5,
   "id": "23412c8f",
   "metadata": {},
   "outputs": [
    {
     "name": "stdout",
     "output_type": "stream",
     "text": [
      "UCLN: 1\n",
      "BCNN: 40\n"
     ]
    }
   ],
   "source": [
    "def gcd(a, b):\n",
    "    while b:\n",
    "        a, b = b, a % b\n",
    "    return a\n",
    "\n",
    "def lcm(a, b):\n",
    "    return a * b // gcd(a, b)\n",
    "\n",
    "a, b = map(int, input(\"Nhập a b: \").split())\n",
    "print(\"UCLN:\", gcd(a, b))\n",
    "print(\"BCNN:\", lcm(a, b))"
   ]
  },
  {
   "cell_type": "markdown",
   "id": "4ff7f18e",
   "metadata": {},
   "source": [
    "b. Có đệ quy"
   ]
  },
  {
   "cell_type": "code",
   "execution_count": 8,
   "id": "d25d992c",
   "metadata": {},
   "outputs": [
    {
     "name": "stdout",
     "output_type": "stream",
     "text": [
      "UCLN: 2\n",
      "BCNN: 8\n"
     ]
    }
   ],
   "source": [
    "def gcd_recursive(a, b):\n",
    "    if b == 0:\n",
    "        return a\n",
    "    return gcd_recursive(b, a % b)\n",
    "\n",
    "def lcm_recursive(a, b):\n",
    "    return a * b // gcd_recursive(a, b)\n",
    "\n",
    "a, b = map(int, input(\"Nhập a b: \").split())\n",
    "print(\"UCLN:\", gcd_recursive(a, b))\n",
    "print(\"BCNN:\", lcm_recursive(a, b))"
   ]
  },
  {
   "cell_type": "markdown",
   "id": "efa4a68d",
   "metadata": {},
   "source": [
    "### **4. Liệt kê tất cả số nguyên tố nhỏ hơn N**"
   ]
  },
  {
   "cell_type": "code",
   "execution_count": 9,
   "id": "69e9faf9",
   "metadata": {},
   "outputs": [
    {
     "name": "stdout",
     "output_type": "stream",
     "text": [
      "2 3 5 "
     ]
    }
   ],
   "source": [
    "N = int(input(\"Nhập N: \"))\n",
    "for i in range(2, N):\n",
    "    if la_nguyen_to(i):\n",
    "        print(i, end=\" \")"
   ]
  },
  {
   "cell_type": "markdown",
   "id": "92eed8f8",
   "metadata": {},
   "source": [
    "### **5. In ra M số nguyên tố đầu tiên**"
   ]
  },
  {
   "cell_type": "code",
   "execution_count": null,
   "id": "d36e94ce",
   "metadata": {},
   "outputs": [],
   "source": [
    "M = int(input(\"Nhập M: \"))\n",
    "count = 0\n",
    "num = 2\n",
    "while count < M:\n",
    "    if la_nguyen_to(num):\n",
    "        print(num, end=\" \")\n",
    "        count += 1\n",
    "    num += 1"
   ]
  },
  {
   "cell_type": "markdown",
   "id": "27d3fb11",
   "metadata": {},
   "source": [
    "### **6. Tìm tất cả các số chia hết cho 7 nhưng không phải bội số của 5, nằm trong đoạn [99;999] (tính cả 99 và 999)**"
   ]
  },
  {
   "cell_type": "code",
   "execution_count": null,
   "id": "1a1b3b3c",
   "metadata": {},
   "outputs": [],
   "source": [
    "for i in range(99, 1000):\n",
    "    if i % 7 == 0 and i % 5 != 0:\n",
    "        print(i, end=\" \")"
   ]
  },
  {
   "cell_type": "markdown",
   "id": "92cef57a",
   "metadata": {},
   "source": [
    "### **7. Tìm số đầu tiên chia hết cho 9 và chia hết cho 7 nằm trong đoạn [M,N]**"
   ]
  },
  {
   "cell_type": "code",
   "execution_count": null,
   "id": "1554245a",
   "metadata": {},
   "outputs": [],
   "source": [
    "M, N = map(int, input(\"Nhập M N: \").split())\n",
    "for i in range(M, N+1):\n",
    "    if i % 63 == 0:  # bội chung nhỏ nhất của 7 và 9\n",
    "        print(\"Số đầu tiên:\", i)\n",
    "        break"
   ]
  },
  {
   "cell_type": "markdown",
   "id": "14329885",
   "metadata": {},
   "source": [
    "### **8. Nhập một số nguyên, đếm xem số đó có bao nhiêu chữ số và tính tổng các chữ số.**"
   ]
  },
  {
   "cell_type": "code",
   "execution_count": null,
   "id": "a35710bf",
   "metadata": {},
   "outputs": [],
   "source": [
    "n = int(input(\"Nhập số n: \"))\n",
    "dem = 0\n",
    "tong = 0\n",
    "m = n\n",
    "while m > 0:\n",
    "    tong += m % 10\n",
    "    dem += 1\n",
    "    m //= 10\n",
    "print(\"Số chữ số:\", dem)\n",
    "print(\"Tổng các chữ số:\", tong)"
   ]
  },
  {
   "cell_type": "markdown",
   "id": "8a006e7b",
   "metadata": {},
   "source": [
    "### **9. Viết chương trình tính lũy thừa nhanh ${a^n}$ dùng đệ quy và chia để trị (fast power using recursion, divide and conquer)**\n",
    "\n",
    "Ví dụ: \n",
    "\n",
    "$$\n",
    "a^b =\n",
    "\\begin{cases} \n",
    "(a^{b//2}) \\cdot (a^{b//2}) \\cdot a & \\text{nếu } b \\text{ lẻ} \\\\\n",
    "(a^{b//2}) \\cdot (a^{b//2}) & \\text{nếu } b \\text{ chẵn}\n",
    "\\end{cases}\n",
    "$$\n",
    "\n",
    "a=2, b=9 ${2^9}$ = 2*${2^4}$\n",
    "\n",
    "a=2, b=8 ${2^8}$ = ${2^4}$*${2^4}$"
   ]
  },
  {
   "cell_type": "code",
   "execution_count": null,
   "id": "d9948337",
   "metadata": {},
   "outputs": [],
   "source": [
    "def power(a, b):\n",
    "    if b == 0:\n",
    "        return 1\n",
    "    if b % 2 == 0:\n",
    "        half = power(a, b//2)\n",
    "        return half * half\n",
    "    else:\n",
    "        half = power(a, b//2)\n",
    "        return a * half * half\n",
    "\n",
    "a, b = map(int, input(\"Nhập a b: \").split())\n",
    "print(f\"{a}^{b} =\", power(a, b))"
   ]
  },
  {
   "cell_type": "markdown",
   "id": "d5fd482d",
   "metadata": {},
   "source": [
    "### **10. Viết chương trình nhập vào một số nguyên dương n. In ra từng chữ số trong n. Yêu cầu không dùng các hàm trong xử lý chuỗi**"
   ]
  },
  {
   "cell_type": "code",
   "execution_count": null,
   "id": "8021b994",
   "metadata": {},
   "outputs": [],
   "source": [
    "n = int(input(\"Nhập số nguyên dương n: \"))\n",
    "so = []\n",
    "while n > 0:\n",
    "    so.append(n % 10)\n",
    "    n //= 10\n",
    "so.reverse()\n",
    "for digit in so:\n",
    "    print(digit)"
   ]
  }
 ],
 "metadata": {
  "kernelspec": {
   "display_name": "base",
   "language": "python",
   "name": "python3"
  },
  "language_info": {
   "codemirror_mode": {
    "name": "ipython",
    "version": 3
   },
   "file_extension": ".py",
   "mimetype": "text/x-python",
   "name": "python",
   "nbconvert_exporter": "python",
   "pygments_lexer": "ipython3",
   "version": "3.12.7"
  }
 },
 "nbformat": 4,
 "nbformat_minor": 5
}
