{
 "cells": [
  {
   "cell_type": "markdown",
   "id": "6d8dc136",
   "metadata": {},
   "source": [
    "### **1. Bạn có thể tính diện tích bề mặt của một hình lập phương nếu biết độ dài cạnh. Hãy viết một chương trình lấy độ dài cạnh (một số nguyên) làm đầu vào và in ra diện tích bề mặt của hình lập phương làm đầu ra.**"
   ]
  },
  {
   "cell_type": "code",
   "execution_count": null,
   "id": "167b98ea",
   "metadata": {},
   "outputs": [
    {
     "name": "stdout",
     "output_type": "stream",
     "text": [
      "Diện tích hình lập phương:  54\n"
     ]
    }
   ],
   "source": [
    "a = int(input(\"Nhập cạnh của hình lập phương \"))\n",
    "S = 6*a*a\n",
    "print(\"Diện tích hình lập phương: \", S)"
   ]
  },
  {
   "cell_type": "markdown",
   "id": "12ca7786",
   "metadata": {},
   "source": [
    "### **2. Five Star Retro Video cho thuê băng VHS và DVD cho những người sành sỏi thích mua album đĩa LP. Cửa hàng cho thuê băng video mới với giá 3 đô la một đêm, và băng video cũ với giá 2 đô la một đêm. Hãy viết một chương trình để nhân viên tại Five Star Retro Video có thể sử dụng để tính tổng chi phí thuê băng video của khách hàng. Chương trình sẽ nhắc người dùng nhập số lượng băng video của từng loại và xuất ra tổng chi phí.**"
   ]
  },
  {
   "cell_type": "code",
   "execution_count": 3,
   "id": "3a9a0488",
   "metadata": {},
   "outputs": [
    {
     "name": "stdout",
     "output_type": "stream",
     "text": [
      "=== Five Star Retro Video ===\n",
      "1. Băng mới ($3/đêm)\n",
      "2. Băng cũ ($2/đêm)\n",
      "Tổng chi phí thuê băng video: $ 10\n"
     ]
    }
   ],
   "source": [
    "print(\"=== Five Star Retro Video ===\")\n",
    "print(\"1. Băng mới ($3/đêm)\")\n",
    "print(\"2. Băng cũ ($2/đêm)\")\n",
    "\n",
    "bangmoi = int(input(\"Nhập số lượng băng mới: \"))\n",
    "bangcu = int(input(\"Nhập số lượng băng cũ: \"))\n",
    "\n",
    "tong = bangmoi*3 + bangcu*2\n",
    "\n",
    "print(\"Tổng chi phí thuê băng video: $\", tong)"
   ]
  },
  {
   "cell_type": "markdown",
   "id": "0c6ebb8a",
   "metadata": {},
   "source": [
    "### **3. Viết một chương trình nhập bán kính của một hình cầu (một số thực) làm đầu vào và sau đó xuất ra đường kính, chu vi, diện tích bề mặt và thể tích của hình cầu đó.**"
   ]
  },
  {
   "cell_type": "code",
   "execution_count": 4,
   "id": "b3483148",
   "metadata": {},
   "outputs": [
    {
     "name": "stdout",
     "output_type": "stream",
     "text": [
      "Đường kính: 10.0\n",
      "Chu vi đường tròn lớn: 31.41592653589793\n",
      "Diện tích bề mặt hình cầu: 314.1592653589793\n",
      "Thể tích hình cầu: 523.5987755982989\n"
     ]
    }
   ],
   "source": [
    "import math\n",
    "\n",
    "r = float(input(\"Nhập bán kính hình cầu: \"))\n",
    "\n",
    "d = 2*r\n",
    "C = 2*math.pi*r\n",
    "S = 4*math.pi* r**2\n",
    "V = (4/3) * math.pi * r**3\n",
    "\n",
    "print(\"Đường kính:\", d)\n",
    "print(\"Chu vi đường tròn lớn:\", C)\n",
    "print(\"Diện tích bề mặt hình cầu:\", S)\n",
    "print(\"Thể tích hình cầu:\", V)"
   ]
  },
  {
   "cell_type": "markdown",
   "id": "c71d679e",
   "metadata": {},
   "source": [
    "### **4. Động lượng của một vật bằng khối lượng nhân với vận tốc của nó. Hãy viết một chương trình nhận khối lượng (tính bằng kilôgam) và vận tốc (tính bằng mét trên giây) của một vật làm đầu vào, sau đó xuất ra động lượng của vật.**"
   ]
  },
  {
   "cell_type": "code",
   "execution_count": 5,
   "id": "e15670b9",
   "metadata": {},
   "outputs": [
    {
     "name": "stdout",
     "output_type": "stream",
     "text": [
      "Động lượng của vật:  20.0\n"
     ]
    }
   ],
   "source": [
    "khoiluong = float(input(\"Nhập khối lượng (kg): \"))\n",
    "vantoc = float(input(\"Nhập vận tốc (m/s): \"))\n",
    "\n",
    "dongluong = khoiluong*vantoc\n",
    "\n",
    "print(\"Động lượng của vật: \", dongluong)"
   ]
  },
  {
   "cell_type": "markdown",
   "id": "62300b8e",
   "metadata": {},
   "source": [
    "### **5. Động năng của một vật chuyển động được cho bởi công thức KE 5 (1/2)mv2 trong đó m là khối lượng của vật và v là vận tốc của nó. Hãy sửa đổi chương trình bạn đã tạo ở Câu hỏi 4 sao cho in ra cả động năng và động lượng của vật.**"
   ]
  },
  {
   "cell_type": "code",
   "execution_count": 6,
   "id": "ffca0a1e",
   "metadata": {},
   "outputs": [
    {
     "name": "stdout",
     "output_type": "stream",
     "text": [
      "Động lượng của vật:  42.0\n",
      "Động năng của vật:  147.0\n"
     ]
    }
   ],
   "source": [
    "khoiluong = float(input(\"Nhập khối lượng (kg): \"))\n",
    "vantoc = float(input(\"Nhập vận tốc (m/s): \"))\n",
    "\n",
    "dongluong = khoiluong*vantoc\n",
    "dongnang = (1/2)*khoiluong* vantoc**2\n",
    "\n",
    "print(\"Động lượng của vật: \", dongluong)\n",
    "print(\"Động năng của vật: \", dongnang)"
   ]
  },
  {
   "cell_type": "markdown",
   "id": "2955394b",
   "metadata": {},
   "source": [
    "### **6. Viết một chương trình tính toán và in ra số phút trong một năm.**"
   ]
  },
  {
   "cell_type": "code",
   "execution_count": 7,
   "id": "9b824705",
   "metadata": {},
   "outputs": [
    {
     "name": "stdout",
     "output_type": "stream",
     "text": [
      "Số phút trong 1 năm là:  525600\n"
     ]
    }
   ],
   "source": [
    "ngay = 365\n",
    "gio = 24\n",
    "phut = 60\n",
    "\n",
    "tong = ngay*gio*phut\n",
    "\n",
    "print(\"Số phút trong 1 năm là: \", tong)"
   ]
  },
  {
   "cell_type": "markdown",
   "id": "ee73c8ba",
   "metadata": {},
   "source": [
    "### **7. Ánh sáng truyền đi với tốc độ 3*108 mét mỗi giây. Một năm ánh sáng là khoảng cách mà một chùm ánh sáng truyền đi**"
   ]
  },
  {
   "cell_type": "code",
   "execution_count": 1,
   "id": "c2bef8b5",
   "metadata": {},
   "outputs": [
    {
     "name": "stdout",
     "output_type": "stream",
     "text": [
      "1 năm ánh sáng ≈ 157680000000000.0 m\n",
      "1 năm ánh sáng ≈ 157680000000.0 km\n"
     ]
    }
   ],
   "source": [
    "c = 3e8\n",
    "\n",
    "ngay = 365\n",
    "gio = 24\n",
    "phut = 60\n",
    "\n",
    "tong = ngay*gio*phut\n",
    "\n",
    "anhsang_m = c*tong\n",
    "anhsang_km = anhsang_m/1000\n",
    "\n",
    "print(\"1 năm ánh sáng ≈\", anhsang_m, \"m\")\n",
    "print(\"1 năm ánh sáng ≈\", anhsang_km, \"km\")"
   ]
  },
  {
   "cell_type": "markdown",
   "id": "bad57d28",
   "metadata": {},
   "source": [
    "### **8. Viết một chương trình nhập vào một số kilômét và in ra số hải lý tương ứng. Sử dụng các phép tính gần đúng sau:**\n",
    "\n",
    "**• Một kilômét biểu thị 1/10.000 khoảng cách giữa Bắc Cực và\n",
    "đường xích đạo.**\n",
    "\n",
    "**• Có 90 độ, mỗi cung dài 60 phút, giữa Bắc Cực và đường xích đạo.**\n",
    "\n",
    "**• Một hải lý bằng 1 phút cung.**"
   ]
  },
  {
   "cell_type": "code",
   "execution_count": null,
   "id": "2a557f4d",
   "metadata": {},
   "outputs": [],
   "source": [
    "# Nhập số km\n",
    "km = float(input(\"Nhập số km: \"))\n",
    "\n",
    "# Đổi sang hải lý\n",
    "hai_ly = km * 0.54\n",
    "\n",
    "# Xuất kết quả\n",
    "print(km, \"kilômét ≈\", hai_ly, \"hải lý\")"
   ]
  },
  {
   "cell_type": "markdown",
   "id": "d1cf8681",
   "metadata": {},
   "source": [
    "### **9. Tổng lương hàng tuần của một nhân viên bằng tiền lương theo giờ nhân với tổng số giờ làm việc bình thường cộng với tiền lương làm thêm giờ. Tiền lương làm thêm giờ bằng tổng số giờ làm thêm giờ nhân với 1,5 lần tiền lương theo giờ. Viết một chương trình nhận đầu vào là tiền lương theo giờ, tổng số giờ làm việc bình thường và tổng số giờ làm thêm giờ, sau đó hiển thị tổng tiền lương hàng tuần của một nhân viên.**"
   ]
  },
  {
   "cell_type": "code",
   "execution_count": 2,
   "id": "44d60305",
   "metadata": {},
   "outputs": [
    {
     "name": "stdout",
     "output_type": "stream",
     "text": [
      "Tổng lương hàng tuần của nhân viên là: 475.0\n"
     ]
    }
   ],
   "source": [
    "luong = float(input(\"Nhập tiền lương theo giờ: \"))\n",
    "gio = float(input(\"Nhập tổng số giờ làm việc bình thường: \"))\n",
    "tangca = float(input(\"Nhập tổng số giờ làm thêm: \"))\n",
    "\n",
    "# Tính toán\n",
    "luong_thuong = luong * gio\n",
    "luong_tang_ca = tangca * (1.5 * luong)\n",
    "tong_luong = luong_thuong + luong_tang_ca\n",
    "\n",
    "# Xuất kết quả\n",
    "print(\"Tổng lương hàng tuần của nhân viên là:\", tong_luong)\n"
   ]
  }
 ],
 "metadata": {
  "kernelspec": {
   "display_name": "Python (pyspark-310)",
   "language": "python",
   "name": "pyspark-310"
  },
  "language_info": {
   "codemirror_mode": {
    "name": "ipython",
    "version": 3
   },
   "file_extension": ".py",
   "mimetype": "text/x-python",
   "name": "python",
   "nbconvert_exporter": "python",
   "pygments_lexer": "ipython3",
   "version": "3.10.16"
  }
 },
 "nbformat": 4,
 "nbformat_minor": 5
}
