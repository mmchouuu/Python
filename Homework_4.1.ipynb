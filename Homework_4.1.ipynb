{
 "cells": [
  {
   "cell_type": "markdown",
   "id": "c7d94c52",
   "metadata": {},
   "source": [
    "# **A.**"
   ]
  },
  {
   "cell_type": "markdown",
   "id": "abaf2422",
   "metadata": {},
   "source": [
    "### **1. L = [2 ,4, 9, 3, 5]. Cho biết kết quả các câu lệnh sau:**\n",
    "\n",
    "a. L[2]\n",
    "\n",
    "b. L[-1]\n",
    "\n",
    "c. len(L)\n",
    "\n",
    "d. L[0:2]\n",
    "\n",
    "e. 0 in L\n",
    "\n",
    "f. L + [24, 1, 4]\n",
    "\n",
    "g. tuple(L)"
   ]
  },
  {
   "cell_type": "code",
   "execution_count": 1,
   "id": "6dc0fa0e",
   "metadata": {},
   "outputs": [
    {
     "name": "stdout",
     "output_type": "stream",
     "text": [
      "9\n",
      "5\n",
      "5\n",
      "[2, 4]\n",
      "False\n",
      "[2, 4, 9, 3, 5, 24, 1, 4]\n",
      "(2, 4, 9, 3, 5)\n"
     ]
    }
   ],
   "source": [
    "L = [2, 4, 9, 3, 5]\n",
    "\n",
    "# a. L[2]\n",
    "print(L[2])  # 9\n",
    "\n",
    "# b. L[-1]\n",
    "print(L[-1])  # 5\n",
    "\n",
    "# c. len(L)\n",
    "print(len(L))  # 5\n",
    "\n",
    "# d. L[0:2]\n",
    "print(L[0:2])  # [2, 4]\n",
    "\n",
    "# e. 0 in L\n",
    "print(0 in L)  # False\n",
    "\n",
    "# f. L + [24, 1, 4]\n",
    "print(L + [24, 1, 4])  # [2, 4, 9, 3, 5, 24, 1, 4]\n",
    "\n",
    "# g. tuple(L)\n",
    "print(tuple(L))  # (2, 4, 9, 3, 5)"
   ]
  },
  {
   "cell_type": "markdown",
   "id": "a1f82d02",
   "metadata": {},
   "source": [
    "### **2. L = [2 ,4, 9, 3, 5]. Viết các câu lệnh thực hiện các yêu cầu sau đây:**\n",
    "\n",
    "a. Thay thế phần tử đầu tiên thành số âm tương ứng.\n",
    "\n",
    "b. Thêm 20 vào cuối danh sách.\n",
    "\n",
    "c. Thêm số 0 vào vị trí thứ 3 trong danh sách.\n",
    "\n",
    "d. Xóa phần tử tại vị trí số 4 trong danh sách.\n",
    "\n",
    "e. Thêm list [0,0,0] vào sau danh sách trên.\n",
    "\n",
    "f. Sắp xếp danh sách giảm dần."
   ]
  },
  {
   "cell_type": "code",
   "execution_count": 2,
   "id": "ebb5f712",
   "metadata": {},
   "outputs": [
    {
     "name": "stdout",
     "output_type": "stream",
     "text": [
      "[20, 9, 5, 4, 0, 0, 0, 0, -2]\n"
     ]
    }
   ],
   "source": [
    "L = [2,4,9,3,5]\n",
    "\n",
    "# a. Thay phần tử đầu tiên thành số âm tương ứng\n",
    "L[0] = -L[0]\n",
    "\n",
    "# b. Thêm 20 vào cuối danh sách\n",
    "L.append(20)\n",
    "\n",
    "# c. Thêm số 0 vào vị trí thứ 3\n",
    "L.insert(2, 0)\n",
    "\n",
    "# d. Xóa phần tử tại vị trí số 4\n",
    "del L[4]\n",
    "\n",
    "# e. Thêm list [0,0,0] vào sau danh sách\n",
    "L.extend([0,0,0])\n",
    "\n",
    "# f. Sắp xếp giảm dần\n",
    "L.sort(reverse=True)\n",
    "\n",
    "print(L)\n"
   ]
  },
  {
   "cell_type": "markdown",
   "id": "2690b84c",
   "metadata": {},
   "source": [
    "# **B.**"
   ]
  },
  {
   "cell_type": "markdown",
   "id": "e4e8c459",
   "metadata": {},
   "source": [
    "### **1. Cho một danh sách bao gồm các chuỗi chứa các chữ số.**\n",
    "\n",
    "Ví dụ: A = [‘3’, ‘27’,’5’,’123’,’9’,’1’]\n",
    "\n",
    "Viết hàm sắp xếp chuỗi tăng dần theo hai kiểu (string compare hoặc integer compare)\n",
    "\n",
    "Ví dụ:\n",
    "• string compare ( so sánh theo thứ tự từ điển)\n",
    "\n",
    "    Danh sách A sau khi được sắp xếp [‘1’, ‘123’,’27’,’3’,’5’,’9’]\n",
    "\n",
    "• integer compare (so sánh theo số nguyên)\n",
    "\n",
    "    Danh sách A sau khi được sắp xếp [‘1’, ‘3’,’5’,’9’,’27’,’123’]\n",
    "\n",
    "❖ Gợi ý dùng sorted() và key function"
   ]
  },
  {
   "cell_type": "code",
   "execution_count": 3,
   "id": "6b5a8c86",
   "metadata": {},
   "outputs": [
    {
     "name": "stdout",
     "output_type": "stream",
     "text": [
      "['1', '123', '27', '3', '5', '9']\n",
      "['1', '3', '5', '9', '27', '123']\n"
     ]
    }
   ],
   "source": [
    "A = ['3', '27','5','123','9','1']\n",
    "\n",
    "# string compare (theo từ điển)\n",
    "sorted_string = sorted(A)\n",
    "print(sorted_string)  # ['1', '123', '27', '3', '5', '9']\n",
    "\n",
    "# integer compare\n",
    "sorted_integer = sorted(A, key=int)\n",
    "print(sorted_integer)  # ['1', '3', '5', '9', '27', '123']\n"
   ]
  },
  {
   "cell_type": "markdown",
   "id": "3230b2d9",
   "metadata": {},
   "source": [
    "### **2. Viết chương trình in list sau khi đã xóa số tại vị trí thứ 1, thứ 2, thứ 3, thứ 6 trong [12,24,35,70,88,120,155].**\n",
    "\n",
    "* Dùng list comprehension và enumerate()"
   ]
  },
  {
   "cell_type": "code",
   "execution_count": 4,
   "id": "43745083",
   "metadata": {},
   "outputs": [
    {
     "name": "stdout",
     "output_type": "stream",
     "text": [
      "[12, 88, 120]\n"
     ]
    }
   ],
   "source": [
    "lst = [12,24,35,70,88,120,155]\n",
    "remove_idx = [1,2,3,6]\n",
    "\n",
    "new_lst = [x for i,x in enumerate(lst) if i not in remove_idx]\n",
    "print(new_lst)  # [12, 88, 120]\n"
   ]
  },
  {
   "cell_type": "markdown",
   "id": "98f8365c",
   "metadata": {},
   "source": [
    "### **3. Xóa các phần tử trùng nhau trong list.**\n",
    "\n",
    "Ví dụ:\n",
    "\n",
    "Input A = [1, 2, 3, 1, 2, 5, 6, 7, 8]\n",
    "\n",
    "Output B = [1, 2, 3, 5, 6, 7, 8]"
   ]
  },
  {
   "cell_type": "markdown",
   "id": "27807cfe",
   "metadata": {},
   "source": [
    "a) Dùng vòng lặp, Yêu cầu không dùng hàm của kiểu dữ liệu dictionary và set"
   ]
  },
  {
   "cell_type": "code",
   "execution_count": 5,
   "id": "aec7db45",
   "metadata": {},
   "outputs": [
    {
     "name": "stdout",
     "output_type": "stream",
     "text": [
      "[1, 2, 3, 5, 6, 7, 8]\n"
     ]
    }
   ],
   "source": [
    "A = [1, 2, 3, 1, 2, 5, 6, 7, 8]\n",
    "B = []\n",
    "for x in A:\n",
    "    if x not in B:\n",
    "        B.append(x)\n",
    "print(B)  # [1, 2, 3, 5, 6, 7, 8]\n"
   ]
  },
  {
   "cell_type": "markdown",
   "id": "ee9f0e99",
   "metadata": {},
   "source": [
    "b) Không ràng buộc"
   ]
  },
  {
   "cell_type": "code",
   "execution_count": 3,
   "id": "5729d510",
   "metadata": {},
   "outputs": [
    {
     "name": "stdout",
     "output_type": "stream",
     "text": [
      "[1, 2, 3, 5, 6, 7, 8]\n"
     ]
    }
   ],
   "source": [
    "A = [1, 2, 3, 1, 2, 5, 6, 7, 8]\n",
    "\n",
    "i = 0\n",
    "while i < len(A):\n",
    "    j = i + 1\n",
    "    while j < len(A):\n",
    "        if A[i] == A[j]:\n",
    "            # xóa phần tử trùng ở vị trí j\n",
    "            A.pop(j)\n",
    "        else:\n",
    "            j += 1\n",
    "    i += 1\n",
    "\n",
    "print(A)"
   ]
  },
  {
   "cell_type": "markdown",
   "id": "499d6978",
   "metadata": {},
   "source": [
    "### **4. Đếm số lần xuất hiện của các phần tử trong list.**\n",
    "\n",
    "Ví dụ: A = [1,1,1,1,2,2,2,2,3,3,4,5,5]\n",
    "\n",
    "Output: 1: 4, 2: 4, 3:2, 4:1, 5:2"
   ]
  },
  {
   "cell_type": "markdown",
   "id": "48046e63",
   "metadata": {},
   "source": [
    "a) Dùng vòng lặp, Yêu cầu không dùng hàm của kiểu dữ liệu dictionary, set hay module collections"
   ]
  },
  {
   "cell_type": "code",
   "execution_count": 7,
   "id": "ac73fe89",
   "metadata": {},
   "outputs": [
    {
     "name": "stdout",
     "output_type": "stream",
     "text": [
      "1:4, 2:4, 3:2, 4:1, 5:2, "
     ]
    }
   ],
   "source": [
    "A = [1,1,1,1,2,2,2,2,3,3,4,5,5]\n",
    "count_list = []\n",
    "for x in A:\n",
    "    if x not in [item[0] for item in count_list]:\n",
    "        count = A.count(x)\n",
    "        count_list.append((x,count))\n",
    "\n",
    "for item in count_list:\n",
    "    print(f\"{item[0]}:{item[1]}\", end=', ')\n"
   ]
  },
  {
   "cell_type": "markdown",
   "id": "c163fe50",
   "metadata": {},
   "source": [
    "b) Không ràng buộc"
   ]
  },
  {
   "cell_type": "code",
   "execution_count": 8,
   "id": "0eeef9c7",
   "metadata": {},
   "outputs": [
    {
     "name": "stdout",
     "output_type": "stream",
     "text": [
      "1:4, 2:4, 3:2, 4:1, 5:2, "
     ]
    }
   ],
   "source": [
    "from collections import Counter\n",
    "A = [1,1,1,1,2,2,2,2,3,3,4,5,5]\n",
    "c = Counter(A)\n",
    "for k,v in c.items():\n",
    "    print(f\"{k}:{v}\", end=', ')"
   ]
  },
  {
   "cell_type": "code",
   "execution_count": null,
   "id": "7c9034d2",
   "metadata": {},
   "outputs": [],
   "source": [
    "A = [1,1,1,1,2,2,2,2,3,3,4,5,5]\n",
    "dem = {}\n",
    "\n",
    "for x in A:\n",
    "    if x not in dem:\n",
    "        dem[x] = 1\n",
    "    else:\n",
    "        dem[x] += 1\n",
    "\n",
    "for k, v in dem.items():\n",
    "    print(f\"{k}:{v}\", end=\", \")\n"
   ]
  },
  {
   "cell_type": "markdown",
   "id": "b283387c",
   "metadata": {},
   "source": [
    "### **5. Viết chương trình nhập một list chứa các số nguyên dương theo các yêu cầu sau:**"
   ]
  },
  {
   "cell_type": "markdown",
   "id": "14cbd301",
   "metadata": {},
   "source": [
    "a) nhập trước số phần từ của list, sau đó nhập từng phần tử."
   ]
  },
  {
   "cell_type": "code",
   "execution_count": 12,
   "id": "709e15be",
   "metadata": {},
   "outputs": [
    {
     "name": "stdout",
     "output_type": "stream",
     "text": [
      "[1, 2, 5]\n"
     ]
    }
   ],
   "source": [
    "# Nhập số phần tử\n",
    "n = int(input(\"Nhập số phần tử: \"))\n",
    "\n",
    "# Nhập n số trên cùng 1 dòng, cách nhau bởi khoảng trắng\n",
    "lst = list(map(int, input(\"Nhập các phần tử cách nhau bởi khoảng trắng: \").split()))\n",
    "\n",
    "# Kiểm tra số lượng nhập đúng n\n",
    "if len(lst) != n:\n",
    "    print(\"Cảnh báo: số lượng phần tử nhập không đúng!\")\n",
    "else:\n",
    "    print(lst)\n"
   ]
  },
  {
   "cell_type": "markdown",
   "id": "aeab5966",
   "metadata": {},
   "source": [
    "b) không nhập trước số lượng phần tử, quá trình nhập kết thức nếu nhập vào số -1."
   ]
  },
  {
   "cell_type": "code",
   "execution_count": 13,
   "id": "b3812a3e",
   "metadata": {},
   "outputs": [
    {
     "name": "stdout",
     "output_type": "stream",
     "text": [
      "[1, 2, 5]\n"
     ]
    }
   ],
   "source": [
    "# Nhập số nguyên cách nhau bằng khoảng trắng, kết thúc bằng -1\n",
    "s = input(\"Nhập các số cách nhau, kết thúc bằng -1: \")  # ví dụ: 6 7 -1\n",
    "lst = [int(x) for x in s.split() if int(x) != -1]\n",
    "print(lst)"
   ]
  },
  {
   "cell_type": "markdown",
   "id": "37ad5e5c",
   "metadata": {},
   "source": [
    "### **6. Cho 2 list như sau: ( 2 list có thể khác độ dài)**\n",
    "\n",
    "a = [1, 1, 2, 3, 5, 8, 13, 21, 34, 55, 89]\n",
    "\n",
    "b = [1, 2, 3, 4, 5, 6, 7, 8, 9, 10, 11, 12, 13]\n",
    "\n",
    "**Viết chương trình tạo ra một list chứa các phần tử chung của 2 list ban đầu theo các yêu cầu sau:**"
   ]
  },
  {
   "cell_type": "markdown",
   "id": "31a56151",
   "metadata": {},
   "source": [
    "a) Không dùng List Comprehension"
   ]
  },
  {
   "cell_type": "code",
   "execution_count": 15,
   "id": "6c5b92c6",
   "metadata": {},
   "outputs": [
    {
     "name": "stdout",
     "output_type": "stream",
     "text": [
      "[1, 2, 3, 5, 8, 13]\n"
     ]
    }
   ],
   "source": [
    "a = [1, 1, 2, 3, 5, 8, 13, 21, 34, 55, 89]\n",
    "b = [1, 2, 3, 4, 5, 6, 7, 8, 9, 10, 11, 12, 13]\n",
    "\n",
    "# a) Không dùng List Comprehension\n",
    "common = []\n",
    "for x in a:\n",
    "    if x in b and x not in common:\n",
    "        common.append(x)\n",
    "print(common)"
   ]
  },
  {
   "cell_type": "markdown",
   "id": "c4150780",
   "metadata": {},
   "source": [
    "b) Dùng List Comprehension"
   ]
  },
  {
   "cell_type": "code",
   "execution_count": 14,
   "id": "632cdc10",
   "metadata": {},
   "outputs": [
    {
     "name": "stdout",
     "output_type": "stream",
     "text": [
      "[1, 2, 3, 5, 8, 13]\n"
     ]
    }
   ],
   "source": [
    "a = [1, 1, 2, 3, 5, 8, 13, 21, 34, 55, 89]\n",
    "b = [1, 2, 3, 4, 5, 6, 7, 8, 9, 10, 11, 12, 13]\n",
    "\n",
    "# b) Dùng List Comprehension\n",
    "common2 = [x for x in a if x in b]\n",
    "common2 = list(dict.fromkeys(common2))  # loại bỏ trùng\n",
    "print(common2)"
   ]
  }
 ],
 "metadata": {
  "kernelspec": {
   "display_name": "base",
   "language": "python",
   "name": "python3"
  },
  "language_info": {
   "codemirror_mode": {
    "name": "ipython",
    "version": 3
   },
   "file_extension": ".py",
   "mimetype": "text/x-python",
   "name": "python",
   "nbconvert_exporter": "python",
   "pygments_lexer": "ipython3",
   "version": "3.12.7"
  }
 },
 "nbformat": 4,
 "nbformat_minor": 5
}
